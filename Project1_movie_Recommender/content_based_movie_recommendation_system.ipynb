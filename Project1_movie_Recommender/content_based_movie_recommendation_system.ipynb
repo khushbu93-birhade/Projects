{
  "nbformat": 4,
  "nbformat_minor": 0,
  "metadata": {
    "colab": {
      "provenance": []
    },
    "kernelspec": {
      "name": "python3",
      "display_name": "Python 3"
    },
    "language_info": {
      "name": "python"
    }
  },
  "cells": [
    {
      "cell_type": "code",
      "source": [
        "# Step 1: Download dataset\n",
        "!wget -q https://raw.githubusercontent.com/khushbu93-birhade/new_code_start/refs/heads/main/bollywood_full.csv\n",
        "\n",
        "import pandas as pd\n",
        "from sklearn.feature_extraction.text import TfidfVectorizer\n",
        "from sklearn.metrics.pairwise import cosine_similarity\n",
        "\n",
        "# Step 2: Load the CSV\n",
        "df = pd.read_csv('bollywood_full.csv')\n",
        "\n",
        "# Step 3: Check the column names\n",
        "print(\"Columns:\", df.columns.tolist()[:10])\n",
        "# Likely output includes: ['title_x','imdb_id','poster_path','wiki_link','title_y','original_title',...,'genres','story','summary',...]\n",
        "\n",
        "# Step 4: Use the content columns safely\n",
        "df['title'] = df['original_title'].fillna(df['title_y'].fillna(df['title_x']))\n",
        "df['plot'] = df['story'].fillna(df['summary'].fillna(''))\n",
        "df = df[['title', 'genres', 'plot']].dropna(subset=['genres','plot']).reset_index(drop=True)\n",
        "\n",
        "# Step 5: Prepare combined text for recommendation\n",
        "df['combined'] = df['genres'].astype(str) + ' ' + df['plot']\n",
        "\n",
        "# Step 6: TF-IDF vectorization\n",
        "tfidf = TfidfVectorizer(stop_words='english', max_features=5000)\n",
        "tfidf_matrix = tfidf.fit_transform(df['combined'])\n",
        "\n",
        "# Step 7: Build cosine similarity matrix\n",
        "cosine_sim = cosine_similarity(tfidf_matrix, tfidf_matrix)\n",
        "\n",
        "# Step 8: Recommendation function\n",
        "def recommend(movie_title, top_n=5):\n",
        "    if movie_title not in df['title'].values:\n",
        "        return f\"Movie '{movie_title}' not found in dataset.\"\n",
        "    idx = df.index[df['title'] == movie_title][0]\n",
        "    sim_scores = list(enumerate(cosine_sim[idx]))\n",
        "    sim_scores = sorted(sim_scores, key=lambda x: x[1], reverse=True)[1:top_n+1]\n",
        "    titles = [df.iloc[i[0]]['title'] for i in sim_scores]\n",
        "    return titles\n",
        "\n",
        "# Step 9: Interactive test\n",
        "movie = input(\"Enter Bollywood movie title: \")\n",
        "result = recommend(movie, top_n=5)\n",
        "print(\"\\nTop recommendations:\\n\", result)\n"
      ],
      "metadata": {
        "colab": {
          "base_uri": "https://localhost:8080/"
        },
        "id": "JAQ95J6n5P4i",
        "outputId": "c6ef61eb-fb8f-48bd-867b-6d16535379e4"
      },
      "execution_count": 3,
      "outputs": [
        {
          "output_type": "stream",
          "name": "stdout",
          "text": [
            "Columns: ['title_x', 'imdb_id', 'poster_path', 'wiki_link', 'title_y', 'original_title', 'is_adult', 'year_of_release', 'runtime', 'genres']\n",
            "Enter Bollywood movie title: Hichki\n",
            "\n",
            "Top recommendations:\n",
            " ['Rough Book', 'Itihaas', 'Notebook', 'Dushman', 'Kal Ho Naa Ho']\n"
          ]
        }
      ]
    },
    {
      "cell_type": "markdown",
      "metadata": {
        "id": "da44576c"
      },
      "source": [
        "Now, modify the cell below to run the `movir_recommender.py` file with streamlit."
      ]
    }
  ]
}